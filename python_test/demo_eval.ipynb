{
 "cells": [
  {
   "cell_type": "code",
   "execution_count": 13,
   "id": "0c3a84b8",
   "metadata": {},
   "outputs": [],
   "source": [
    "#!/usr/bin/env python\n",
    "import sys\n",
    "import os\n",
    "import os.path\n",
    "import pandas as pd\n",
    "import numpy as np\n",
    "import umark\n",
    "\n",
    "#input_dir = sys.argv[1]\n",
    "#output_dir = sys.argv[2]\n",
    "input_dir = \"input\"\n",
    "output_dir = \"output\"\n",
    "\n",
    "submission_dir = os.path.join(input_dir, 'res')\n",
    "orig_dir = os.path.join(input_dir, 'ref')\n",
    "\n",
    "if not os.path.isdir(submission_dir):\n",
    "    print(\"%s doesn't exist\" % submission_dir)"
   ]
  },
  {
   "cell_type": "code",
   "execution_count": 97,
   "id": "1ba7d68d",
   "metadata": {},
   "outputs": [
    {
     "name": "stderr",
     "output_type": "stream",
     "text": [
      "C:\\Users\\info\\AppData\\Local\\Programs\\Python\\Python311\\Lib\\site-packages\\category_encoders\\utils.py:360: FutureWarning: `get_feature_names` is deprecated in all of sklearn. Use `get_feature_names_out` instead.\n",
      "  warnings.warn(\"`get_feature_names` is deprecated in all of sklearn. Use `get_feature_names_out` instead.\",\n",
      "C:\\Users\\info\\AppData\\Local\\Programs\\Python\\Python311\\Lib\\site-packages\\category_encoders\\utils.py:360: FutureWarning: `get_feature_names` is deprecated in all of sklearn. Use `get_feature_names_out` instead.\n",
      "  warnings.warn(\"`get_feature_names` is deprecated in all of sklearn. Use `get_feature_names_out` instead.\",\n"
     ]
    }
   ],
   "source": [
    "if os.path.isdir(submission_dir) and os.path.isdir(orig_dir):\n",
    "    if not os.path.exists(output_dir):\n",
    "        os.makedirs(output_dir)\n",
    "\n",
    "    output_filename = os.path.join(output_dir, 'scores.txt')\n",
    "    output_file = open(output_filename, 'w')\n",
    "\n",
    "    data_id_file = os.path.join(submission_dir, \"data_id.txt\")\n",
    "    data_id = open(data_id_file).read()\n",
    "\n",
    "    orig_file = os.path.join(orig_dir, \"answers\", str(data_id)+\".csv\")\n",
    "    submission_file = os.path.join(submit_dir, \"anonymized.csv\")\n",
    "\n",
    "\n",
    "    orig_df = pd.read_csv(orig_file, header=None)\n",
    "    submission_df = pd.read_csv(submission_file, header=None)\n",
    "    \n",
    "    df = umark.umark(orig_df, submission_df)\n",
    "    cnt, rate, coef, OR, pvalue, cor = df.loc[\"max\"]\n",
    "    \n",
    "    output_file.write(\"rate:%.6f\\n\" % rate)\n",
    "    output_file.write(\"cor:%.6f\\n\" % cor)\n",
    "    output_file.write(\"OR:%.6f\\n\" % OR)\n",
    "    output_file.write(\"pvalue:%.6f\\n\" % pvalue)\n",
    "    output_file.write(\"score:%.6f\\n\" % (1 - (rate + cor + OR + pvalue) / 4)) \n",
    "    output_file.close()"
   ]
  },
  {
   "cell_type": "code",
   "execution_count": 83,
   "id": "bf8e37cc",
   "metadata": {},
   "outputs": [
    {
     "data": {
      "text/plain": [
       "0.04629273393411604"
      ]
     },
     "execution_count": 83,
     "metadata": {},
     "output_type": "execute_result"
    }
   ],
   "source": [
    "df.loc[\"max\"][\"rate\"]"
   ]
  },
  {
   "cell_type": "code",
   "execution_count": 94,
   "id": "977571c3",
   "metadata": {},
   "outputs": [
    {
     "data": {
      "text/plain": [
       "531.0"
      ]
     },
     "execution_count": 94,
     "metadata": {},
     "output_type": "execute_result"
    }
   ],
   "source": [
    "cnt, rate, coef, OR, pvalue, cor = df.loc[\"max\"]\n"
   ]
  },
  {
   "cell_type": "code",
   "execution_count": 29,
   "id": "9c8de87a",
   "metadata": {},
   "outputs": [
    {
     "ename": "FileNotFoundError",
     "evalue": "[Errno 2] No such file or directory: 'input\\\\res\\\\answer.txt'",
     "output_type": "error",
     "traceback": [
      "\u001b[1;31m---------------------------------------------------------------------------\u001b[0m",
      "\u001b[1;31mFileNotFoundError\u001b[0m                         Traceback (most recent call last)",
      "Cell \u001b[1;32mIn[29], line 4\u001b[0m\n\u001b[0;32m      1\u001b[0m truth \u001b[38;5;241m=\u001b[39m \u001b[38;5;28mopen\u001b[39m(truth_file)\u001b[38;5;241m.\u001b[39mread()\n\u001b[0;32m      3\u001b[0m submission_answer_file \u001b[38;5;241m=\u001b[39m os\u001b[38;5;241m.\u001b[39mpath\u001b[38;5;241m.\u001b[39mjoin(submit_dir, \u001b[38;5;124m\"\u001b[39m\u001b[38;5;124manswer.txt\u001b[39m\u001b[38;5;124m\"\u001b[39m)\n\u001b[1;32m----> 4\u001b[0m submission_answer \u001b[38;5;241m=\u001b[39m \u001b[38;5;28;43mopen\u001b[39;49m\u001b[43m(\u001b[49m\u001b[43msubmission_answer_file\u001b[49m\u001b[43m)\u001b[49m\u001b[38;5;241m.\u001b[39mread()\n\u001b[0;32m      6\u001b[0m \u001b[38;5;28;01mif\u001b[39;00m truth \u001b[38;5;241m==\u001b[39m submission_answer:\n\u001b[0;32m      7\u001b[0m     output_file\u001b[38;5;241m.\u001b[39mwrite(\u001b[38;5;124m\"\u001b[39m\u001b[38;5;124mcorrect:1\u001b[39m\u001b[38;5;124m\"\u001b[39m)\n",
      "File \u001b[1;32m~\\AppData\\Local\\Programs\\Python\\Python311\\Lib\\site-packages\\IPython\\core\\interactiveshell.py:282\u001b[0m, in \u001b[0;36m_modified_open\u001b[1;34m(file, *args, **kwargs)\u001b[0m\n\u001b[0;32m    275\u001b[0m \u001b[38;5;28;01mif\u001b[39;00m file \u001b[38;5;129;01min\u001b[39;00m {\u001b[38;5;241m0\u001b[39m, \u001b[38;5;241m1\u001b[39m, \u001b[38;5;241m2\u001b[39m}:\n\u001b[0;32m    276\u001b[0m     \u001b[38;5;28;01mraise\u001b[39;00m \u001b[38;5;167;01mValueError\u001b[39;00m(\n\u001b[0;32m    277\u001b[0m         \u001b[38;5;124mf\u001b[39m\u001b[38;5;124m\"\u001b[39m\u001b[38;5;124mIPython won\u001b[39m\u001b[38;5;124m'\u001b[39m\u001b[38;5;124mt let you open fd=\u001b[39m\u001b[38;5;132;01m{\u001b[39;00mfile\u001b[38;5;132;01m}\u001b[39;00m\u001b[38;5;124m by default \u001b[39m\u001b[38;5;124m\"\u001b[39m\n\u001b[0;32m    278\u001b[0m         \u001b[38;5;124m\"\u001b[39m\u001b[38;5;124mas it is likely to crash IPython. If you know what you are doing, \u001b[39m\u001b[38;5;124m\"\u001b[39m\n\u001b[0;32m    279\u001b[0m         \u001b[38;5;124m\"\u001b[39m\u001b[38;5;124myou can use builtins\u001b[39m\u001b[38;5;124m'\u001b[39m\u001b[38;5;124m open.\u001b[39m\u001b[38;5;124m\"\u001b[39m\n\u001b[0;32m    280\u001b[0m     )\n\u001b[1;32m--> 282\u001b[0m \u001b[38;5;28;01mreturn\u001b[39;00m \u001b[43mio_open\u001b[49m\u001b[43m(\u001b[49m\u001b[43mfile\u001b[49m\u001b[43m,\u001b[49m\u001b[43m \u001b[49m\u001b[38;5;241;43m*\u001b[39;49m\u001b[43margs\u001b[49m\u001b[43m,\u001b[49m\u001b[43m \u001b[49m\u001b[38;5;241;43m*\u001b[39;49m\u001b[38;5;241;43m*\u001b[39;49m\u001b[43mkwargs\u001b[49m\u001b[43m)\u001b[49m\n",
      "\u001b[1;31mFileNotFoundError\u001b[0m: [Errno 2] No such file or directory: 'input\\\\res\\\\answer.txt'"
     ]
    }
   ],
   "source": [
    "    truth = open(truth_file).read()\n",
    "\n",
    "    submission_answer_file = os.path.join(submit_dir, \"answer.txt\")\n",
    "    submission_answer = open(submission_answer_file).read()\n",
    "\n",
    "    if truth == submission_answer:\n",
    "        output_file.write(\"correct:1\")\n",
    "    else:\n",
    "        output_file.write(\"correct:0\")\n",
    "\n",
    "    output_file.close()"
   ]
  }
 ],
 "metadata": {
  "kernelspec": {
   "display_name": "Python 3 (ipykernel)",
   "language": "python",
   "name": "python3"
  },
  "language_info": {
   "codemirror_mode": {
    "name": "ipython",
    "version": 3
   },
   "file_extension": ".py",
   "mimetype": "text/x-python",
   "name": "python",
   "nbconvert_exporter": "python",
   "pygments_lexer": "ipython3",
   "version": "3.11.2"
  }
 },
 "nbformat": 4,
 "nbformat_minor": 5
}
