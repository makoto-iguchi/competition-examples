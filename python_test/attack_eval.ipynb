{
 "cells": [
  {
   "cell_type": "code",
   "execution_count": 27,
   "id": "1ba7d68d",
   "metadata": {},
   "outputs": [],
   "source": [
    "#!/usr/bin/env python\n",
    "import sys\n",
    "import os\n",
    "import os.path\n",
    "import glob\n",
    "\n",
    "#input_dir = sys.argv[1]\n",
    "#output_dir = sys.argv[2]\n",
    "input_dir = \"input\"\n",
    "output_dir = \"output\"\n",
    "\n",
    "def check_guess(answer, guess):\n",
    "    hit = 0\n",
    "    blow = 0\n",
    "    for i in range(len(answer)):\n",
    "        if answer[i] == guess[i]:\n",
    "            hit += 1\n",
    "        elif guess[i] in answer:\n",
    "            blow += 1\n",
    "    return hit, blow\n",
    "\n",
    "submission_dir = os.path.join(input_dir, 'res')\n",
    "orig_dir = os.path.join(input_dir, 'ref')\n",
    "\n",
    "num_of_team = 15\n",
    "\n",
    "if not os.path.isdir(submission_dir):\n",
    "    print(\"%s doesn't exist\" % submission_dir)\n",
    "\n",
    "if os.path.isdir(submission_dir) and os.path.isdir(orig_dir):\n",
    "    if not os.path.exists(output_dir):\n",
    "        os.makedirs(output_dir)\n",
    "\n",
    "    # output_filename = os.path.join(output_dir, 'scores.txt')\n",
    "    # output_file = open(output_filename, 'w')\n",
    "    # answer_files = sorted(glob.glob(os.path.join(orig_dir,\"*.txt\")))\n",
    "    # guess_files = sorted(glob.glob(os.path.join(submission_dir,\"*.txt\")))\n",
    "\n",
    "    # OMIT: answer_file check\n",
    "    # - Score 1.0 for all non-existing data\n",
    "    # - Calculate the score roughly (assume that one of the teams is the attacker)\n",
    "\n",
    "    # We want to start the filenames from 001, so...\n",
    "    score = [0] * (num_of_team + 1)\n",
    "    hit = [0] * (num_of_team + 1)\n",
    "    blow = [0] * (num_of_team + 1)\n",
    "\n",
    "    for i in range(1, num_of_team + 1):\n",
    "        filename = \"%03d.txt\" % i\n",
    "        answer_file = os.path.join(orig_dir, \"%03d.txt\" % i)\n",
    "        guess_file = os.path.join(submission_dir, \"%03d.txt\" % i)\n",
    "\n",
    "        #print(answer_file)\n",
    "        with open(answer_file, \"r\") as f:\n",
    "            answer = f.read()\n",
    "\n",
    "        if os.path.exists(guess_file):\n",
    "            with open(guess_file, \"r\") as f:\n",
    "                guess = f.read()\n",
    "\n",
    "            hit[i], blow[i] = check_guess(answer, guess)\n",
    "            score[i] = 1 - (hit[i] * 1 + blow[i] * 0.5) / 6 # Hit = 1pt, Blow = 0.5pt, All hits = 6pt\n",
    "        else:\n",
    "            guess = 00000\n",
    "            hit[i] = blow[i] = 0\n",
    "            score[i] = 1.0\n",
    "\n",
    "        #print(i, guess, answer, score[i])            \n",
    "\n",
    "    output_filename = os.path.join(output_dir, 'scores.txt')\n",
    "    with open(output_filename, mode=\"w\") as f:\n",
    "        f.writelines(\"attack_score:%.6f\\n\" % (1 - (sum(score) - 1) / (num_of_team - 1))) # Exclude the own data\n",
    "        for i in range(1, num_of_team + 1):\n",
    "            f.writelines(\"privacy_score_%d:%.6f\\n\" % (i, score[i]))\n",
    "            f.writelines(\"hit_%d:%d\\n\" % (i, hit[i]))\n",
    "            f.writelines(\"blow_%d:%d\\n\" % (i, blow[i]))\n",
    "\n",
    "\n",
    "    # for i, (answer_file, guess_file) in enumerate(zip(answer_files, guess_files)):\n",
    "    #     #print(i, guess_file, answer_file)\n",
    "    #     with open(answer_file, \"r\") as f:\n",
    "    #         answer = f.read()\n",
    "    #     with open(guess_file, \"r\") as f:\n",
    "    #         guess = f.read()\n",
    "\n",
    "    #     hit[i], blow[i] = check_guess(answer, guess)\n",
    "    #     score[i] = 1 - (hit[i] * 1 + blow[i] * 0.5) / 6 # Hit = 1pt, Blow = 0.5pt, All hits = 6pt\n",
    "    #     print(guess, answer, score[i])\n",
    "\n",
    "    # output_filename = os.path.join(output_dir, 'scores.txt')\n",
    "    # with open(output_filename, mode=\"w\") as f:\n",
    "    #     f.writelines(\"attack_score:%.6f\\n\" % (1 - sum(score)/len(score)))\n",
    "    #     for i in range(len(score)):\n",
    "    #         f.writelines(\"privacy_score_%d:%.6f\\n\" % (i+1, score[i]))\n",
    "    #         f.writelines(\"hit_%d:%d\\n\" % (i+1, hit[i]))\n",
    "    #         f.writelines(\"blow_%d:%d\\n\" % (i+1, blow[i]))\n",
    "\n"
   ]
  },
  {
   "cell_type": "code",
   "execution_count": 17,
   "id": "bf8e37cc",
   "metadata": {},
   "outputs": [
    {
     "ename": "IndexError",
     "evalue": "list assignment index out of range",
     "output_type": "error",
     "traceback": [
      "\u001b[1;31m---------------------------------------------------------------------------\u001b[0m",
      "\u001b[1;31mIndexError\u001b[0m                                Traceback (most recent call last)",
      "Cell \u001b[1;32mIn[17], line 2\u001b[0m\n\u001b[0;32m      1\u001b[0m hoge \u001b[39m=\u001b[39m [[]]\n\u001b[1;32m----> 2\u001b[0m hoge[\u001b[39m1\u001b[39;49m] \u001b[39m=\u001b[39m \u001b[39m1\u001b[39m\n",
      "\u001b[1;31mIndexError\u001b[0m: list assignment index out of range"
     ]
    }
   ],
   "source": [
    "hoge = [[]]\n",
    "hoge[1] = 1"
   ]
  },
  {
   "cell_type": "code",
   "execution_count": 94,
   "id": "977571c3",
   "metadata": {},
   "outputs": [
    {
     "data": {
      "text/plain": [
       "531.0"
      ]
     },
     "execution_count": 94,
     "metadata": {},
     "output_type": "execute_result"
    }
   ],
   "source": [
    "cnt, rate, coef, OR, pvalue, cor = df.loc[\"max\"]\n"
   ]
  },
  {
   "cell_type": "code",
   "execution_count": 29,
   "id": "9c8de87a",
   "metadata": {},
   "outputs": [
    {
     "ename": "FileNotFoundError",
     "evalue": "[Errno 2] No such file or directory: 'input\\\\res\\\\answer.txt'",
     "output_type": "error",
     "traceback": [
      "\u001b[1;31m---------------------------------------------------------------------------\u001b[0m",
      "\u001b[1;31mFileNotFoundError\u001b[0m                         Traceback (most recent call last)",
      "Cell \u001b[1;32mIn[29], line 4\u001b[0m\n\u001b[0;32m      1\u001b[0m truth \u001b[38;5;241m=\u001b[39m \u001b[38;5;28mopen\u001b[39m(truth_file)\u001b[38;5;241m.\u001b[39mread()\n\u001b[0;32m      3\u001b[0m submission_answer_file \u001b[38;5;241m=\u001b[39m os\u001b[38;5;241m.\u001b[39mpath\u001b[38;5;241m.\u001b[39mjoin(submit_dir, \u001b[38;5;124m\"\u001b[39m\u001b[38;5;124manswer.txt\u001b[39m\u001b[38;5;124m\"\u001b[39m)\n\u001b[1;32m----> 4\u001b[0m submission_answer \u001b[38;5;241m=\u001b[39m \u001b[38;5;28;43mopen\u001b[39;49m\u001b[43m(\u001b[49m\u001b[43msubmission_answer_file\u001b[49m\u001b[43m)\u001b[49m\u001b[38;5;241m.\u001b[39mread()\n\u001b[0;32m      6\u001b[0m \u001b[38;5;28;01mif\u001b[39;00m truth \u001b[38;5;241m==\u001b[39m submission_answer:\n\u001b[0;32m      7\u001b[0m     output_file\u001b[38;5;241m.\u001b[39mwrite(\u001b[38;5;124m\"\u001b[39m\u001b[38;5;124mcorrect:1\u001b[39m\u001b[38;5;124m\"\u001b[39m)\n",
      "File \u001b[1;32m~\\AppData\\Local\\Programs\\Python\\Python311\\Lib\\site-packages\\IPython\\core\\interactiveshell.py:282\u001b[0m, in \u001b[0;36m_modified_open\u001b[1;34m(file, *args, **kwargs)\u001b[0m\n\u001b[0;32m    275\u001b[0m \u001b[38;5;28;01mif\u001b[39;00m file \u001b[38;5;129;01min\u001b[39;00m {\u001b[38;5;241m0\u001b[39m, \u001b[38;5;241m1\u001b[39m, \u001b[38;5;241m2\u001b[39m}:\n\u001b[0;32m    276\u001b[0m     \u001b[38;5;28;01mraise\u001b[39;00m \u001b[38;5;167;01mValueError\u001b[39;00m(\n\u001b[0;32m    277\u001b[0m         \u001b[38;5;124mf\u001b[39m\u001b[38;5;124m\"\u001b[39m\u001b[38;5;124mIPython won\u001b[39m\u001b[38;5;124m'\u001b[39m\u001b[38;5;124mt let you open fd=\u001b[39m\u001b[38;5;132;01m{\u001b[39;00mfile\u001b[38;5;132;01m}\u001b[39;00m\u001b[38;5;124m by default \u001b[39m\u001b[38;5;124m\"\u001b[39m\n\u001b[0;32m    278\u001b[0m         \u001b[38;5;124m\"\u001b[39m\u001b[38;5;124mas it is likely to crash IPython. If you know what you are doing, \u001b[39m\u001b[38;5;124m\"\u001b[39m\n\u001b[0;32m    279\u001b[0m         \u001b[38;5;124m\"\u001b[39m\u001b[38;5;124myou can use builtins\u001b[39m\u001b[38;5;124m'\u001b[39m\u001b[38;5;124m open.\u001b[39m\u001b[38;5;124m\"\u001b[39m\n\u001b[0;32m    280\u001b[0m     )\n\u001b[1;32m--> 282\u001b[0m \u001b[38;5;28;01mreturn\u001b[39;00m \u001b[43mio_open\u001b[49m\u001b[43m(\u001b[49m\u001b[43mfile\u001b[49m\u001b[43m,\u001b[49m\u001b[43m \u001b[49m\u001b[38;5;241;43m*\u001b[39;49m\u001b[43margs\u001b[49m\u001b[43m,\u001b[49m\u001b[43m \u001b[49m\u001b[38;5;241;43m*\u001b[39;49m\u001b[38;5;241;43m*\u001b[39;49m\u001b[43mkwargs\u001b[49m\u001b[43m)\u001b[49m\n",
      "\u001b[1;31mFileNotFoundError\u001b[0m: [Errno 2] No such file or directory: 'input\\\\res\\\\answer.txt'"
     ]
    }
   ],
   "source": [
    "    truth = open(truth_file).read()\n",
    "\n",
    "    submission_answer_file = os.path.join(submit_dir, \"answer.txt\")\n",
    "    submission_answer = open(submission_answer_file).read()\n",
    "\n",
    "    if truth == submission_answer:\n",
    "        output_file.write(\"correct:1\")\n",
    "    else:\n",
    "        output_file.write(\"correct:0\")\n",
    "\n",
    "    output_file.close()"
   ]
  }
 ],
 "metadata": {
  "kernelspec": {
   "display_name": "Python 3 (ipykernel)",
   "language": "python",
   "name": "python3"
  },
  "language_info": {
   "codemirror_mode": {
    "name": "ipython",
    "version": 3
   },
   "file_extension": ".py",
   "mimetype": "text/x-python",
   "name": "python",
   "nbconvert_exporter": "python",
   "pygments_lexer": "ipython3",
   "version": "3.11.2"
  }
 },
 "nbformat": 4,
 "nbformat_minor": 5
}
